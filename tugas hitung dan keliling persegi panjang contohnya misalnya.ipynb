{
  "nbformat": 4,
  "nbformat_minor": 0,
  "metadata": {
    "colab": {
      "provenance": [],
      "authorship_tag": "ABX9TyMXHa4UuhaigJ3faAw6h6+A",
      "include_colab_link": true
    },
    "kernelspec": {
      "name": "python3",
      "display_name": "Python 3"
    },
    "language_info": {
      "name": "python"
    }
  },
  "cells": [
    {
      "cell_type": "markdown",
      "metadata": {
        "id": "view-in-github",
        "colab_type": "text"
      },
      "source": [
        "<a href=\"https://colab.research.google.com/github/adeliayofi/adelia/blob/main/tugas%20hitung%20dan%20keliling%20persegi%20panjang%20contohnya%20misalnya.ipynb\" target=\"_parent\"><img src=\"https://colab.research.google.com/assets/colab-badge.svg\" alt=\"Open In Colab\"/></a>"
      ]
    },
    {
      "cell_type": "code",
      "source": [
        "# Input panjang dan lebar\n",
        "panjang = float(input(\"Masukkan panjang persegi panjang: \"))\n",
        "lebar = float(input(\"Masukkan lebar persegi panjang: \"))\n",
        "\n",
        "# Hitung luas\n",
        "luas = panjang * lebar\n",
        "\n",
        "# Hitung keliling\n",
        "keliling = 2 * (panjang + lebar)\n",
        "\n",
        "# Tampilkan hasil\n",
        "print(\"Luas persegi panjang:\", luas)\n",
        "print(\"Keliling persegi panjang:\", keliling)\n"
      ],
      "metadata": {
        "colab": {
          "base_uri": "https://localhost:8080/"
        },
        "id": "HuilOOLkKWOU",
        "outputId": "90a7aa15-3202-4a2a-d0b3-223c64a8da36"
      },
      "execution_count": 2,
      "outputs": [
        {
          "output_type": "stream",
          "name": "stdout",
          "text": [
            "Masukkan panjang persegi panjang: 15\n",
            "Masukkan lebar persegi panjang: 13\n",
            "Luas persegi panjang: 195.0\n",
            "Keliling persegi panjang: 56.0\n"
          ]
        }
      ]
    }
  ]
}