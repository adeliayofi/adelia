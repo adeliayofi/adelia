{
  "nbformat": 4,
  "nbformat_minor": 0,
  "metadata": {
    "colab": {
      "provenance": [],
      "authorship_tag": "ABX9TyPpeqwAfJRVxUCL7pfMaDsE",
      "include_colab_link": true
    },
    "kernelspec": {
      "name": "python3",
      "display_name": "Python 3"
    },
    "language_info": {
      "name": "python"
    }
  },
  "cells": [
    {
      "cell_type": "markdown",
      "metadata": {
        "id": "view-in-github",
        "colab_type": "text"
      },
      "source": [
        "<a href=\"https://colab.research.google.com/github/adeliayofi/adelia/blob/main/Tugas_2.ipynb\" target=\"_parent\"><img src=\"https://colab.research.google.com/assets/colab-badge.svg\" alt=\"Open In Colab\"/></a>"
      ]
    },
    {
      "cell_type": "code",
      "execution_count": 1,
      "metadata": {
        "colab": {
          "base_uri": "https://localhost:8080/"
        },
        "id": "gtGs6vBfPvjY",
        "outputId": "5e33baf2-4f07-4823-c3e5-823e65d44f5a"
      },
      "outputs": [
        {
          "output_type": "stream",
          "name": "stdout",
          "text": [
            "Masukkan nama Anda: Yofi\n",
            "Masukkan umur Anda: 18\n",
            "Masukkan hobi Anda: Menggambar\n",
            "\n",
            "--- Data Pengguna ---\n",
            "Nama :  Yofi\n",
            "Umur :  18\n",
            "Hobi :  Menggambar\n"
          ]
        }
      ],
      "source": [
        "# Program input-output sederhana\n",
        "\n",
        "# Meminta input dari pengguna\n",
        "nama = input(\"Masukkan nama Anda: \")\n",
        "umur = input(\"Masukkan umur Anda: \")\n",
        "hobi = input(\"Masukkan hobi Anda: \")\n",
        "\n",
        "# Menampilkan output\n",
        "print(\"\\n--- Data Pengguna ---\")\n",
        "print(\"Nama : \", nama)\n",
        "print(\"Umur : \", umur)\n",
        "print(\"Hobi : \", hobi)\n"
      ]
    },
    {
      "cell_type": "code",
      "source": [
        "%%writefile ajinomoto.cpp\n",
        "#include <iostream>\n",
        "#include <string>\n",
        "\n",
        "using namespace std;\n",
        "\n",
        "int main() {\n",
        "    string nama, hobi;\n",
        "    int umur;\n",
        "\n",
        "    cout << \"Masukkan nama Anda: \";\n",
        "    getline(cin, nama);\n",
        "\n",
        "    cout << \"Masukkan umur Anda: \";\n",
        "    cin >> umur;\n",
        "    cin.ignore(); // Bersihkan buffer\n",
        "\n",
        "    cout << \"Masukkan hobi Anda: \";\n",
        "    getline(cin, hobi);\n",
        "\n",
        "    cout << \"\\n--- Data Pengguna ---\" << endl;\n",
        "    cout << \"Nama : \" << nama << endl;\n",
        "    cout << \"Umur : \" << umur << endl;\n",
        "    cout << \"Hobi : \" << hobi << endl;\n",
        "\n",
        "    return 0;\n",
        "}\n"
      ],
      "metadata": {
        "colab": {
          "base_uri": "https://localhost:8080/"
        },
        "id": "kAgUDjtZR8wl",
        "outputId": "0b0ba204-844e-4980-ea89-e8a0ffb4d258"
      },
      "execution_count": 8,
      "outputs": [
        {
          "output_type": "stream",
          "name": "stdout",
          "text": [
            "Writing ajinomoto.cpp\n"
          ]
        }
      ]
    },
    {
      "cell_type": "code",
      "source": [
        "%%shell\n",
        "g++ ajinomoto.cpp -o  main\n",
        "./main"
      ],
      "metadata": {
        "colab": {
          "base_uri": "https://localhost:8080/"
        },
        "id": "GJAn7-_nSvv9",
        "outputId": "9d29498f-c006-4987-81e7-61e2bb4b05f5"
      },
      "execution_count": 9,
      "outputs": [
        {
          "output_type": "stream",
          "name": "stdout",
          "text": [
            "Masukkan nama Anda: Yofi\n",
            "Masukkan umur Anda: 18\n",
            "Masukkan hobi Anda: Menggambar\n",
            "\n",
            "--- Data Pengguna ---\n",
            "Nama : Yofi\n",
            "Umur : 18\n",
            "Hobi : Menggambar\n"
          ]
        },
        {
          "output_type": "execute_result",
          "data": {
            "text/plain": []
          },
          "metadata": {},
          "execution_count": 9
        }
      ]
    }
  ]
}